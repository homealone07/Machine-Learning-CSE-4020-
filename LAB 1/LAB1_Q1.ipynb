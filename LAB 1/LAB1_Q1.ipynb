{
  "nbformat": 4,
  "nbformat_minor": 0,
  "metadata": {
    "colab": {
      "name": "LAB1 Q1.ipynb",
      "provenance": [],
      "collapsed_sections": []
    },
    "kernelspec": {
      "name": "python3",
      "display_name": "Python 3"
    },
    "language_info": {
      "name": "python"
    }
  },
  "cells": [
    {
      "cell_type": "markdown",
      "source": [
        "## Simple Linear Regression\n",
        "\n",
        "\n"
      ],
      "metadata": {
        "id": "nERmao2Gj0rX"
      }
    },
    {
      "cell_type": "markdown",
      "source": [
        "### Importing packages"
      ],
      "metadata": {
        "id": "8bXVDB8lj83a"
      }
    },
    {
      "cell_type": "code",
      "execution_count": null,
      "metadata": {
        "id": "FUYbUOiOajX9"
      },
      "outputs": [],
      "source": [
        "import matplotlib.pyplot as plt\n",
        "import numpy as np\n",
        "import pandas as pd\n",
        "%matplotlib inline"
      ]
    },
    {
      "cell_type": "markdown",
      "source": [
        "### Create our own data"
      ],
      "metadata": {
        "id": "IxPdpqzOj_6i"
      }
    },
    {
      "cell_type": "code",
      "source": [
        "datafile = pd.DataFrame()\n",
        "datafile[0] = np.arange(0,5)\n",
        "datafile[1] = [2,1,3,6,9]\n",
        "datafile.columns =[\"X\",\"Y\"]\n",
        "print(datafile)"
      ],
      "metadata": {
        "colab": {
          "base_uri": "https://localhost:8080/"
        },
        "id": "KIMStMcSatJ0",
        "outputId": "4a146e18-0a82-488a-fe72-92f04171358b"
      },
      "execution_count": null,
      "outputs": [
        {
          "output_type": "stream",
          "name": "stdout",
          "text": [
            "   X  Y\n",
            "0  0  2\n",
            "1  1  1\n",
            "2  2  3\n",
            "3  3  6\n",
            "4  4  9\n"
          ]
        }
      ]
    },
    {
      "cell_type": "markdown",
      "source": [
        "## Checking Linearity\n"
      ],
      "metadata": {
        "id": "yw0Bla3NkFMi"
      }
    },
    {
      "cell_type": "code",
      "source": [
        "plt.scatter(datafile['X'],datafile['Y'])\n",
        "plt.title(\"LAB 1\")\n",
        "plt.xlim(0,5)\n",
        "plt.ylim(1,9)\n",
        "plt.xticks(np.arange(0,5,1))\n",
        "plt.legend()\n",
        "plt.xlabel(\"X\")\n",
        "plt.ylabel(\"Y\")\n",
        "plt.show()"
      ],
      "metadata": {
        "colab": {
          "base_uri": "https://localhost:8080/",
          "height": 312
        },
        "id": "DOZV4shoc5Qc",
        "outputId": "b53eabaa-f0f9-4f1d-d3d0-d1ef1077300f"
      },
      "execution_count": null,
      "outputs": [
        {
          "output_type": "stream",
          "name": "stderr",
          "text": [
            "WARNING:matplotlib.legend:No handles with labels found to put in legend.\n"
          ]
        },
        {
          "output_type": "display_data",
          "data": {
            "text/plain": [
              "<Figure size 432x288 with 1 Axes>"
            ],
            "image/png": "[encoded data removed]"
          },
          "metadata": {
            "needs_background": "light"
          }
        }
      ]
    },
    {
      "cell_type": "code",
      "source": [
        "import seaborn as sb\n",
        "data_corr = datafile.corr()\n",
        "sb.heatmap(data_corr,annot=True)"
      ],
      "metadata": {
        "colab": {
          "base_uri": "https://localhost:8080/",
          "height": 286
        },
        "id": "8C4s-bTkdqaL",
        "outputId": "f0580eee-d49f-4b2f-881f-38bfd1bf1103"
      },
      "execution_count": null,
      "outputs": [
        {
          "output_type": "execute_result",
          "data": {
            "text/plain": [
              "<matplotlib.axes._subplots.AxesSubplot at 0x7f718e383a90>"
            ]
          },
          "metadata": {},
          "execution_count": 5
        },
        {
          "output_type": "display_data",
          "data": {
            "text/plain": [
              "<Figure size 432x288 with 2 Axes>"
            ],
            "image/png": "[encoded data removed]"
          },
          "metadata": {
            "needs_background": "light"
          }
        }
      ]
    },
    {
      "cell_type": "markdown",
      "source": [
        "### Modeling"
      ],
      "metadata": {
        "id": "oIDDLA9-kHQC"
      }
    },
    {
      "cell_type": "code",
      "source": [
        "from sklearn import linear_model\n",
        "regress = linear_model.LinearRegression()\n",
        "\n",
        "train_x = np.asanyarray(datafile[['X']])\n",
        "train_y = np.asanyarray(datafile[['Y']])\n",
        "#print(train_x)\n",
        "#print(train_y)\n",
        "\n",
        "regress.fit (train_x,train_y)\n",
        "# The coefficients\n",
        "print ('Coefficients: ', regress.coef_)\n",
        "print ('Intercept: ',regress.intercept_)\n"
      ],
      "metadata": {
        "colab": {
          "base_uri": "https://localhost:8080/"
        },
        "id": "jCCsQGvqd3qi",
        "outputId": "108f3eee-170d-471b-fe9d-8d4bed65bdaf"
      },
      "execution_count": null,
      "outputs": [
        {
          "output_type": "stream",
          "name": "stdout",
          "text": [
            "Coefficients:  [[1.9]]\n",
            "Intercept:  [0.4]\n"
          ]
        }
      ]
    },
    {
      "cell_type": "markdown",
      "source": [
        "#### Plot outputs"
      ],
      "metadata": {
        "id": "QYROk8lDkLR5"
      }
    },
    {
      "cell_type": "code",
      "source": [
        "plt.scatter(datafile.X, datafile.Y,  color='blue',label=\"Actual\")\n",
        "plt.plot(train_x, regress.coef_[0][0]*train_x + regress.intercept_[0], '-r',label=\"Predicted\")\n",
        "plt.title(\"LAB 1 plot\")\n",
        "plt.xlim(0,5)\n",
        "plt.ylim(1,9)\n",
        "plt.xticks(np.arange(0,5,1))\n",
        "plt.legend()\n",
        "plt.xlabel(\"X\")\n",
        "plt.ylabel(\"Y\")\n",
        "plt.show()"
      ],
      "metadata": {
        "colab": {
          "base_uri": "https://localhost:8080/",
          "height": 295
        },
        "id": "9JrI_M_weSsi",
        "outputId": "a60f228b-9535-44a4-e8b0-b84747debd51"
      },
      "execution_count": null,
      "outputs": [
        {
          "output_type": "display_data",
          "data": {
            "text/plain": [
              "<Figure size 432x288 with 1 Axes>"
            ],
            "image/png": "[encoded data removed]"
          },
          "metadata": {
            "needs_background": "light"
          }
        }
      ]
    },
    {
      "cell_type": "code",
      "source": [
        "y_predicted = regress.predict(train_x)\n",
        "for i in range(0,len(train_x)):\n",
        "    print(train_y[i],y_predicted[i])\n",
        "datafile['Predicted'] = y_predicted\n",
        "print(y_predicted)\n",
        "print(datafile.head())"
      ],
      "metadata": {
        "colab": {
          "base_uri": "https://localhost:8080/"
        },
        "id": "u9ZiRdUFelvT",
        "outputId": "d8492555-6c23-4b12-cb1d-e44d895020bc"
      },
      "execution_count": null,
      "outputs": [
        {
          "output_type": "stream",
          "name": "stdout",
          "text": [
            "[2] [0.4]\n",
            "[1] [2.3]\n",
            "[3] [4.2]\n",
            "[6] [6.1]\n",
            "[9] [8.]\n",
            "[[0.4]\n",
            " [2.3]\n",
            " [4.2]\n",
            " [6.1]\n",
            " [8. ]]\n",
            "   X  Y  Predicted\n",
            "0  0  2        0.4\n",
            "1  1  1        2.3\n",
            "2  2  3        4.2\n",
            "3  3  6        6.1\n",
            "4  4  9        8.0\n"
          ]
        }
      ]
    },
    {
      "cell_type": "markdown",
      "source": [
        "#### Performance measurement\n",
        "Any of the following metrics may be used:\n",
        "<ul>\n",
        "    <li> Mean absolute error: It is the average of the absolute value of all the errors. </li>\n",
        "    <li> Mean Squared Error (MSE): Mean Squared Error (MSE) is the mean of the squared error. This is efficient since the focus is on large errors and doesnot consider sign of error.</li>\n",
        "    <li> Root Mean Squared Error (RMSE): This is a metric to calculate the accuracy of the model. It represents how close the data are to the fitted regression line. The higher the R-squared, the better the model fits your data. Best possible score is 1.0 and it can be negative (because the model can be arbitrarily worse).</li>\n",
        "</ul>"
      ],
      "metadata": {
        "id": "LG20wGn0h3R6"
      }
    },
    {
      "cell_type": "code",
      "source": [
        "from sklearn import metrics\n",
        "print('Mean Absolute Error:', metrics.mean_absolute_error(train_y, y_predicted))\n",
        "print('Mean Squared Error:', metrics.mean_squared_error(train_y, y_predicted))\n",
        "print('Root Mean Squared Error:', np.sqrt(metrics.mean_squared_error(train_y, y_predicted)))"
      ],
      "metadata": {
        "colab": {
          "base_uri": "https://localhost:8080/"
        },
        "id": "96F41enXh8tw",
        "outputId": "20e6de9a-50fb-40c6-bd44-eb86d8d3f294"
      },
      "execution_count": null,
      "outputs": [
        {
          "output_type": "stream",
          "name": "stdout",
          "text": [
            "Mean Absolute Error: 1.0399999999999998\n",
            "Mean Squared Error: 1.3399999999999999\n",
            "Root Mean Squared Error: 1.1575836902790224\n"
          ]
        }
      ]
    },
    {
      "cell_type": "code",
      "source": [
        "from sklearn.metrics import r2_score\n",
        "\n",
        "test_x = np.asanyarray(datafile[['X']])\n",
        "test_y = np.asanyarray(datafile[['Y']])\n",
        "test_y_predicted = regress.predict(test_x)\n",
        "\n",
        "print(\"Mean absolute error (MAE):\" , np.mean(np.absolute(test_y_predicted - test_y)))\n",
        "print(\"Mean square error (MSE): \" , np.mean((test_y_predicted - test_y) ** 2))\n",
        "print(\"R2-score: %.2f (RMSE):\" , r2_score(test_y, test_y_predicted) )"
      ],
      "metadata": {
        "colab": {
          "base_uri": "https://localhost:8080/"
        },
        "id": "UpldjkvHigYu",
        "outputId": "97cde90f-dde0-40fd-f8de-0e194e05b83e"
      },
      "execution_count": null,
      "outputs": [
        {
          "output_type": "stream",
          "name": "stdout",
          "text": [
            "Mean absolute error (MAE): 1.0399999999999998\n",
            "Mean square error (MSE):  1.3399999999999999\n",
            "R2-score: %.2f (RMSE): 0.8434579439252337\n"
          ]
        }
      ]
    },
    {
      "cell_type": "code",
      "source": [
        "from sklearn.model_selection import train_test_split\n",
        "\n",
        "train_x, test_x, train_y, test_y = train_test_split(datafile[['X']], datafile[['Y']], test_size=0.30, random_state=42)\n",
        "print(train_x)\n",
        "print(\"Testing\")\n",
        "print(test_x)\n",
        "\n",
        "from sklearn import linear_model\n",
        "regress = linear_model.LinearRegression()\n",
        "regress.fit (train_x,train_y)\n",
        "# The coefficients\n",
        "print ('Coefficients: ', regress.coef_)\n",
        "print ('Intercept: ',regress.intercept_)"
      ],
      "metadata": {
        "colab": {
          "base_uri": "https://localhost:8080/"
        },
        "id": "Vif8z_Puijn-",
        "outputId": "c71c515d-a1db-4570-f4a5-f68a9b261c75"
      },
      "execution_count": null,
      "outputs": [
        {
          "output_type": "stream",
          "name": "stdout",
          "text": [
            "   X\n",
            "2  2\n",
            "0  0\n",
            "3  3\n",
            "Testing\n",
            "   X\n",
            "1  1\n",
            "4  4\n",
            "Coefficients:  [[1.21428571]]\n",
            "Intercept:  [1.64285714]\n"
          ]
        }
      ]
    },
    {
      "cell_type": "code",
      "source": [
        "y_predicted = regress.predict(test_x)\n",
        "print(test_x)\n",
        "print(test_y)\n",
        "print(y_predicted)"
      ],
      "metadata": {
        "colab": {
          "base_uri": "https://localhost:8080/"
        },
        "id": "7P3ZmE4xi6o6",
        "outputId": "ed28e4ad-9a3d-4901-835a-9e13eccc5a68"
      },
      "execution_count": null,
      "outputs": [
        {
          "output_type": "stream",
          "name": "stdout",
          "text": [
            "   X\n",
            "1  1\n",
            "4  4\n",
            "   Y\n",
            "1  1\n",
            "4  9\n",
            "[[2.85714286]\n",
            " [6.5       ]]\n"
          ]
        }
      ]
    },
    {
      "cell_type": "code",
      "source": [
        "from sklearn import metrics\n",
        "print('Mean Absolute Error:', metrics.mean_absolute_error(test_y, y_predicted))\n",
        "print('Mean Squared Error:', metrics.mean_squared_error(test_y, y_predicted))\n",
        "print('Root Mean Squared Error:', np.sqrt(metrics.mean_squared_error(test_y, y_predicted)))"
      ],
      "metadata": {
        "colab": {
          "base_uri": "https://localhost:8080/"
        },
        "id": "QXO6G2nYjOvj",
        "outputId": "4c196cce-4643-4a6a-a2db-4e814dc3ec94"
      },
      "execution_count": null,
      "outputs": [
        {
          "output_type": "stream",
          "name": "stdout",
          "text": [
            "Mean Absolute Error: 2.1785714285714284\n",
            "Mean Squared Error: 4.849489795918367\n",
            "Root Mean Squared Error: 2.202155715638285\n"
          ]
        }
      ]
    },
    {
      "cell_type": "code",
      "source": [
        "import sklearn\n",
        "print(sklearn.metrics.SCORERS.keys())"
      ],
      "metadata": {
        "colab": {
          "base_uri": "https://localhost:8080/"
        },
        "id": "cjc4XHIVjUrd",
        "outputId": "550033b7-4edf-459a-d6e9-1153ea6de60f"
      },
      "execution_count": null,
      "outputs": [
        {
          "output_type": "stream",
          "name": "stdout",
          "text": [
            "dict_keys(['explained_variance', 'r2', 'max_error', 'neg_median_absolute_error', 'neg_mean_absolute_error', 'neg_mean_absolute_percentage_error', 'neg_mean_squared_error', 'neg_mean_squared_log_error', 'neg_root_mean_squared_error', 'neg_mean_poisson_deviance', 'neg_mean_gamma_deviance', 'accuracy', 'top_k_accuracy', 'roc_auc', 'roc_auc_ovr', 'roc_auc_ovo', 'roc_auc_ovr_weighted', 'roc_auc_ovo_weighted', 'balanced_accuracy', 'average_precision', 'neg_log_loss', 'neg_brier_score', 'adjusted_rand_score', 'rand_score', 'homogeneity_score', 'completeness_score', 'v_measure_score', 'mutual_info_score', 'adjusted_mutual_info_score', 'normalized_mutual_info_score', 'fowlkes_mallows_score', 'precision', 'precision_macro', 'precision_micro', 'precision_samples', 'precision_weighted', 'recall', 'recall_macro', 'recall_micro', 'recall_samples', 'recall_weighted', 'f1', 'f1_macro', 'f1_micro', 'f1_samples', 'f1_weighted', 'jaccard', 'jaccard_macro', 'jaccard_micro', 'jaccard_samples', 'jaccard_weighted'])\n"
          ]
        }
      ]
    }
  ]
}